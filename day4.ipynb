{
  "nbformat": 4,
  "nbformat_minor": 0,
  "metadata": {
    "colab": {
      "name": "day4.ipynb",
      "provenance": []
    },
    "kernelspec": {
      "name": "python3",
      "display_name": "Python 3"
    }
  },
  "cells": [
    {
      "cell_type": "code",
      "metadata": {
        "id": "rQxfPpCM5tGD",
        "colab_type": "code",
        "colab": {
          "base_uri": "https://localhost:8080/",
          "height": 68
        },
        "outputId": "a0971b6e-eac4-4601-e01e-c843a40615c4"
      },
      "source": [
        "# Python3 code to demonstrate working of \n",
        "# All occurrences of substring in string \n",
        "# Using list comprehension + startswith() \n",
        "\n",
        "# initializing string \n",
        "test_str = \"what we think we become we are python programmers\"\n",
        "\n",
        "# initializing substring \n",
        "test_sub = \"we\"\n",
        "\n",
        "# printing original string \n",
        "print(\"The original string is : \" + test_str) \n",
        "\n",
        "# printing substring \n",
        "print(\"The substring to find : \" + test_sub) \n",
        "\n",
        "# using list comprehension + startswith() \n",
        "# All occurrences of substring in string \n",
        "res = [i for i in range(len(test_str)) if test_str.startswith(test_sub, i)] \n",
        "\n",
        "# printing result \n",
        "print(\"The start indices of the substrings are : \" + str(res)) \n"
      ],
      "execution_count": 3,
      "outputs": [
        {
          "output_type": "stream",
          "text": [
            "The original string is : what we think we become we are python programmers\n",
            "The substring to find : we\n",
            "The start indices of the substrings are : [5, 14, 24]\n"
          ],
          "name": "stdout"
        }
      ]
    },
    {
      "cell_type": "code",
      "metadata": {
        "id": "aieHMv7s6Dpe",
        "colab_type": "code",
        "colab": {
          "base_uri": "https://localhost:8080/",
          "height": 34
        },
        "outputId": "4f21239b-7030-4f9b-d93d-1af062c7d021"
      },
      "source": [
        "a=\"we are good boys\"\n",
        "a.isupper()"
      ],
      "execution_count": 4,
      "outputs": [
        {
          "output_type": "execute_result",
          "data": {
            "text/plain": [
              "False"
            ]
          },
          "metadata": {
            "tags": []
          },
          "execution_count": 4
        }
      ]
    },
    {
      "cell_type": "code",
      "metadata": {
        "id": "-cZV-y_M7SOz",
        "colab_type": "code",
        "colab": {
          "base_uri": "https://localhost:8080/",
          "height": 34
        },
        "outputId": "28719019-980b-45c8-d12a-f60bf7cd4fe8"
      },
      "source": [
        "b=\"WE ARE BAD BOYS\"\n",
        "b.isupper()"
      ],
      "execution_count": 7,
      "outputs": [
        {
          "output_type": "execute_result",
          "data": {
            "text/plain": [
              "True"
            ]
          },
          "metadata": {
            "tags": []
          },
          "execution_count": 7
        }
      ]
    },
    {
      "cell_type": "code",
      "metadata": {
        "id": "tWVAxJ4a7Z5x",
        "colab_type": "code",
        "colab": {}
      },
      "source": [
        ""
      ],
      "execution_count": null,
      "outputs": []
    }
  ]
}