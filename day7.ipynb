{
  "nbformat": 4,
  "nbformat_minor": 0,
  "metadata": {
    "colab": {
      "name": "day7.ipynb",
      "provenance": []
    },
    "kernelspec": {
      "name": "python3",
      "display_name": "Python 3"
    }
  },
  "cells": [
    {
      "cell_type": "code",
      "metadata": {
        "id": "2zfeuHiXiibH",
        "colab_type": "code",
        "colab": {}
      },
      "source": [
        "##QUESTION 1##"
      ],
      "execution_count": 4,
      "outputs": []
    },
    {
      "cell_type": "code",
      "metadata": {
        "id": "ucgkxG6riBQB",
        "colab_type": "code",
        "colab": {
          "base_uri": "https://localhost:8080/",
          "height": 85
        },
        "outputId": "846b97f2-a5ba-4c72-a119-e88048886e0c"
      },
      "source": [
        "old_dict = {21: 'FTP', 22: 'SSH', 23: 'TELNET', 80: 'HTTP'} \n",
        "  \n",
        "new_dict = dict([(value, key) for key, value in old_dict.items()]) \n",
        "    \n",
        "\n",
        "  \n",
        "# Printing new dictionary after swapping keys and values \n",
        "\n",
        "for i in new_dict: \n",
        "    print(i, \" :  \", new_dict[i]) "
      ],
      "execution_count": 5,
      "outputs": [
        {
          "output_type": "stream",
          "text": [
            "FTP  :   21\n",
            "SSH  :   22\n",
            "TELNET  :   23\n",
            "HTTP  :   80\n"
          ],
          "name": "stdout"
        }
      ]
    },
    {
      "cell_type": "code",
      "metadata": {
        "id": "dfBMyOTfkvsa",
        "colab_type": "code",
        "colab": {}
      },
      "source": [
        "#question 2"
      ],
      "execution_count": 13,
      "outputs": []
    },
    {
      "cell_type": "code",
      "metadata": {
        "id": "N6w4TxBajMy1",
        "colab_type": "code",
        "colab": {
          "base_uri": "https://localhost:8080/",
          "height": 68
        },
        "outputId": "fe3f8156-cdab-4a87-ef36-ae5d6872ce4a"
      },
      "source": [
        "tup1=[(1,2),(3,4),(5,6)]\n",
        "print(tup1[0][0]+tup1[0][1])\n",
        "print(tup1[1][0]+tup1[1][1])\n",
        "print(tup1[2][0]+tup1[2][1])\n"
      ],
      "execution_count": 12,
      "outputs": [
        {
          "output_type": "stream",
          "text": [
            "3\n",
            "7\n",
            "11\n"
          ],
          "name": "stdout"
        }
      ]
    },
    {
      "cell_type": "code",
      "metadata": {
        "id": "xqJbHAB8pTXq",
        "colab_type": "code",
        "colab": {}
      },
      "source": [
        "#QUESTION 3"
      ],
      "execution_count": 15,
      "outputs": []
    },
    {
      "cell_type": "code",
      "metadata": {
        "id": "tXZpuwqkogJy",
        "colab_type": "code",
        "colab": {
          "base_uri": "https://localhost:8080/",
          "height": 51
        },
        "outputId": "992e0a5b-b05f-4531-ec7c-560db63195bd"
      },
      "source": [
        "l = [[1, 2,3],[1,2],['a','hit','less'] ] \n",
        "  \n",
        "# output list \n",
        "output = [] \n",
        "  \n",
        "# function used for removing nested  \n",
        "# lists in python.  \n",
        "def reemovNestings(l): \n",
        "    for i in l: \n",
        "        if type(i) == list: \n",
        "            reemovNestings(i) \n",
        "        else: \n",
        "            output.append(i) \n",
        "  \n",
        "# Driver code \n",
        "print ('The original list: ', l) \n",
        "reemovNestings(l) \n",
        "print ('The list after removing nesting: ', output) "
      ],
      "execution_count": 14,
      "outputs": [
        {
          "output_type": "stream",
          "text": [
            "The original list:  [[1, 2, 3], [1, 2], ['a', 'hit', 'less']]\n",
            "The list after removing nesting:  [1, 2, 3, 1, 2, 'a', 'hit', 'less']\n"
          ],
          "name": "stdout"
        }
      ]
    }
  ]
}