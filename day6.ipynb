{
  "nbformat": 4,
  "nbformat_minor": 0,
  "metadata": {
    "colab": {
      "name": "day6.ipynb",
      "provenance": []
    },
    "kernelspec": {
      "name": "python3",
      "display_name": "Python 3"
    }
  },
  "cells": [
    {
      "cell_type": "code",
      "metadata": {
        "id": "tLM0KQcTRaoU",
        "colab_type": "code",
        "colab": {
          "base_uri": "https://localhost:8080/",
          "height": 34
        },
        "outputId": "e8b593d6-f780-47ae-a9f1-dd59d1896ce0"
      },
      "source": [
        "list1=[1,2,3,4,5,7,8]\n",
        "list2= [\"a\",\"b\",\"c\",\"d\",\"e\"]\n",
        "res = {}\n",
        "for key in list1:\n",
        " for value in list2:\n",
        "   res[key] = value\n",
        "   list2.remove(value)\n",
        "   break\n",
        "print (\"dictionary output is : \" + str(res)) "
      ],
      "execution_count": 2,
      "outputs": [
        {
          "output_type": "stream",
          "text": [
            "dictionary output is : {1: 'a', 2: 'b', 3: 'c', 4: 'd', 5: 'e'}\n"
          ],
          "name": "stdout"
        }
      ]
    },
    {
      "cell_type": "code",
      "metadata": {
        "id": "6h7qmNYpRnxs",
        "colab_type": "code",
        "colab": {}
      },
      "source": [
        ""
      ],
      "execution_count": null,
      "outputs": []
    }
  ]
}