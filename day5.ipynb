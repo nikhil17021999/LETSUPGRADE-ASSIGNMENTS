{
  "nbformat": 4,
  "nbformat_minor": 0,
  "metadata": {
    "colab": {
      "name": "Untitled0.ipynb",
      "provenance": []
    },
    "kernelspec": {
      "name": "python3",
      "display_name": "Python 3"
    }
  },
  "cells": [
    {
      "cell_type": "code",
      "metadata": {
        "id": "8dMqxjhNMK5-",
        "colab_type": "code",
        "colab": {
          "base_uri": "https://localhost:8080/",
          "height": 34
        },
        "outputId": "0ff6f0ee-daa9-47d4-96e0-812662844aa7"
      },
      "source": [
        "lis1 = [10,20,40,60,70,80] \n",
        "  \n",
        "# initializing list 1 \n",
        "lis2 = [5,15,25,35,45,60] \n",
        "  \n",
        "# using extend() to add elements of lis2 in lis1 \n",
        "lis1.extend(lis2) \n",
        "\n",
        "print(sorted(lis1))\n",
        "  \n",
        "\n",
        "      \n"
      ],
      "execution_count": 16,
      "outputs": [
        {
          "output_type": "stream",
          "text": [
            "[5, 10, 15, 20, 25, 35, 40, 45, 60, 60, 70, 80]\n"
          ],
          "name": "stdout"
        }
      ]
    },
    {
      "cell_type": "code",
      "metadata": {
        "id": "9tlcXqYlON0b",
        "colab_type": "code",
        "colab": {
          "base_uri": "https://localhost:8080/",
          "height": 34
        },
        "outputId": "1f5fcc3c-49d1-44e5-f0e5-7bd348c3d937"
      },
      "source": [
        "a=[0,1,2,10,4,1,0,56,2,0,1,3,0,56,0,4]\n",
        "a.pop(0)\n",
        "a.pop(6)\n",
        "a.pop(9)\n",
        "a.pop(12)\n"
      ],
      "execution_count": 18,
      "outputs": [
        {
          "output_type": "execute_result",
          "data": {
            "text/plain": [
              "4"
            ]
          },
          "metadata": {
            "tags": []
          },
          "execution_count": 18
        }
      ]
    },
    {
      "cell_type": "code",
      "metadata": {
        "id": "Hgun1qzvRn_A",
        "colab_type": "code",
        "colab": {}
      },
      "source": [
        ""
      ],
      "execution_count": null,
      "outputs": []
    }
  ]
}